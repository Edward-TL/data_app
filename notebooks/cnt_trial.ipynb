{
 "cells": [
  {
   "cell_type": "code",
   "execution_count": 1,
   "metadata": {},
   "outputs": [],
   "source": [
    "import sys\n",
    "# caution: path[0] is reserved for script path (or '' in REPL)\n",
    "work_path = 'c:\\\\Users\\\\Edward TL\\\\OneDrive\\\\Peryton\\\\data_app'\n",
    "\n",
    "sys.path.insert(1, work_path)\n",
    "\n",
    "\n",
    "from helpers import get_config, get_excels\n",
    "\n",
    "config = get_config(f\"{work_path}/extract/cnt_files.env\")\n",
    "db_path = f\"{work_path}\\\\{config['CNT_DB']}\"\n",
    "excels = get_excels(db_path)"
   ]
  },
  {
   "cell_type": "code",
   "execution_count": 2,
   "metadata": {},
   "outputs": [
    {
     "data": {
      "text/plain": [
       "['Arma BHA.xlsx',\n",
       " 'BITACORA_MAESTRA.xlsx',\n",
       " 'Desarma BHA.xlsx',\n",
       " 'Metros perforados por hora.xlsx',\n",
       " 'Plantilla de reporte.xlsx',\n",
       " 'Tiempo de conexion.xlsx',\n",
       " 'Velocidad de viaje.xlsx']"
      ]
     },
     "execution_count": 2,
     "metadata": {},
     "output_type": "execute_result"
    }
   ],
   "source": [
    "excels"
   ]
  },
  {
   "cell_type": "code",
   "execution_count": 3,
   "metadata": {},
   "outputs": [],
   "source": [
    "excels.remove('Plantilla de reporte.xlsx')\n",
    "excels.remove(\"BITACORA_MAESTRA.xlsx\")"
   ]
  },
  {
   "cell_type": "code",
   "execution_count": 4,
   "metadata": {},
   "outputs": [
    {
     "data": {
      "text/plain": [
       "['Arma BHA.xlsx',\n",
       " 'Desarma BHA.xlsx',\n",
       " 'Metros perforados por hora.xlsx',\n",
       " 'Tiempo de conexion.xlsx',\n",
       " 'Velocidad de viaje.xlsx']"
      ]
     },
     "execution_count": 4,
     "metadata": {},
     "output_type": "execute_result"
    }
   ],
   "source": [
    "excels"
   ]
  },
  {
   "cell_type": "code",
   "execution_count": 5,
   "metadata": {},
   "outputs": [
    {
     "data": {
      "text/html": [
       "<div>\n",
       "<style scoped>\n",
       "    .dataframe tbody tr th:only-of-type {\n",
       "        vertical-align: middle;\n",
       "    }\n",
       "\n",
       "    .dataframe tbody tr th {\n",
       "        vertical-align: top;\n",
       "    }\n",
       "\n",
       "    .dataframe thead th {\n",
       "        text-align: right;\n",
       "    }\n",
       "</style>\n",
       "<table border=\"1\" class=\"dataframe\">\n",
       "  <thead>\n",
       "    <tr style=\"text-align: right;\">\n",
       "      <th></th>\n",
       "      <th>Estándar</th>\n",
       "      <th>Desarma BHA Tipo 6</th>\n",
       "    </tr>\n",
       "  </thead>\n",
       "  <tbody>\n",
       "    <tr>\n",
       "      <th>0</th>\n",
       "      <td>3</td>\n",
       "      <td>2.55</td>\n",
       "    </tr>\n",
       "  </tbody>\n",
       "</table>\n",
       "</div>"
      ],
      "text/plain": [
       "   Estándar  Desarma BHA Tipo 6\n",
       "0         3                2.55"
      ]
     },
     "execution_count": 5,
     "metadata": {},
     "output_type": "execute_result"
    }
   ],
   "source": [
    "import pandas as pd\n",
    "\n",
    "df = {\n",
    "    file.replace(\".xlsx\", \"\"): pd.read_excel(\n",
    "            f\"{db_path}\\\\{file}\") for file in excels\n",
    "}\n",
    "\n",
    "df['Arma BHA']"
   ]
  },
  {
   "cell_type": "code",
   "execution_count": 6,
   "metadata": {},
   "outputs": [],
   "source": [
    "from openpyxl import load_workbook\n",
    "from openpyxl.workbook import Workbook\n",
    "\n",
    "def create_wb(file_name: str = \"Reporte de prueba 1.xlsx\") -> None:\n",
    "    \"\"\"Creates a copy from an base file, and returns the new Workbook\n",
    "    ready to work.\"\"\"\n",
    "    base_wb = load_workbook(f\"{db_path}\\\\Plantilla de reporte.xlsx\")\n",
    "    new_file = f\"{db_path}\\\\Reportes\\\\{file_name}\"\n",
    "    base_wb.save(new_file)\n",
    "    base_wb.close()\n",
    "\n",
    "    return \n",
    "\n",
    "create_wb()"
   ]
  },
  {
   "cell_type": "code",
   "execution_count": 7,
   "metadata": {},
   "outputs": [],
   "source": [
    "test_report_file = f\"{db_path}\\\\Reportes\\\\Reporte de prueba 1.xlsx\""
   ]
  },
  {
   "cell_type": "code",
   "execution_count": 8,
   "metadata": {},
   "outputs": [],
   "source": [
    "def append_df_sheet(df, file, sheet_name) -> None:\n",
    "    writer = pd.ExcelWriter(file, engine=\"openpyxl\", mode = 'a')\n",
    "    df.to_excel(\n",
    "        excel_writer = writer,\n",
    "        sheet_name = sheet_name,\n",
    "        index = False\n",
    "        )\n",
    "    writer.close()\n",
    "\n",
    "for table in df:\n",
    "    append_df_sheet(df[table], test_report_file, table)"
   ]
  },
  {
   "cell_type": "code",
   "execution_count": 9,
   "metadata": {},
   "outputs": [
    {
     "name": "stdout",
     "output_type": "stream",
     "text": [
      "['Reporte', 'Arma BHA', 'Desarma BHA', 'Metros perforados por hora', 'Tiempo de conexion', 'Velocidad de viaje']\n"
     ]
    }
   ],
   "source": [
    "book = load_workbook(test_report_file)\n",
    "print(book.sheetnames)"
   ]
  },
  {
   "cell_type": "code",
   "execution_count": 10,
   "metadata": {},
   "outputs": [],
   "source": [
    "from reporter.plots import Bar\n",
    "import reporter.plot.objects as po"
   ]
  },
  {
   "cell_type": "code",
   "execution_count": 11,
   "metadata": {},
   "outputs": [],
   "source": [
    "def create_charts(charts_dictionary, h, w):\n",
    "    for chart_name, chart_pos in charts_dictionary.items():\n",
    "        chart = Bar(\n",
    "            _data = po.ChartData(\n",
    "                titles= po.Titles(\n",
    "                    chart = chart_name,\n",
    "                    y_axis = \"Tiempo (h)\",\n",
    "                    x_axis = \"Comparativa\"\n",
    "                ),\n",
    "                chart = po.Source(\n",
    "                    ws = book['Reporte'],\n",
    "                    df = df[chart_name]\n",
    "                ),\n",
    "                data = po.Source(\n",
    "                    ws = book[chart_name],\n",
    "                    df = df[chart_name]\n",
    "                ),\n",
    "                ref = po.ChartReferences(\n",
    "                    chart_position=chart_pos\n",
    "                ),\n",
    "                height = h,\n",
    "                width = w\n",
    "            )\n",
    "        ).to_excel()"
   ]
  },
  {
   "cell_type": "code",
   "execution_count": 12,
   "metadata": {},
   "outputs": [],
   "source": [
    "armed_chars = {\n",
    "    \"Arma BHA\": \"A3\",\n",
    "    \"Desarma BHA\": \"N3\"\n",
    "}\n",
    "\n",
    "create_charts(armed_chars, 4, 8)\n",
    "\n",
    "long_charts = {\n",
    "    'Tiempo de conexion': \"A11\",\n",
    "    \"Velocidad de viaje\": \"A22\"\n",
    "}\n",
    "\n",
    "create_charts(long_charts, 6, 15)\n",
    "\n",
    "book.save(test_report_file)\n",
    "book.close()"
   ]
  },
  {
   "cell_type": "code",
   "execution_count": 13,
   "metadata": {},
   "outputs": [
    {
     "data": {
      "text/plain": [
       "dict_keys(['Arma BHA', 'Desarma BHA', 'Metros perforados por hora', 'Tiempo de conexion', 'Velocidad de viaje'])"
      ]
     },
     "execution_count": 13,
     "metadata": {},
     "output_type": "execute_result"
    }
   ],
   "source": [
    "df.keys()"
   ]
  },
  {
   "cell_type": "code",
   "execution_count": 14,
   "metadata": {},
   "outputs": [
    {
     "data": {
      "text/html": [
       "<div>\n",
       "<style scoped>\n",
       "    .dataframe tbody tr th:only-of-type {\n",
       "        vertical-align: middle;\n",
       "    }\n",
       "\n",
       "    .dataframe tbody tr th {\n",
       "        vertical-align: top;\n",
       "    }\n",
       "\n",
       "    .dataframe thead th {\n",
       "        text-align: right;\n",
       "    }\n",
       "</style>\n",
       "<table border=\"1\" class=\"dataframe\">\n",
       "  <thead>\n",
       "    <tr style=\"text-align: right;\">\n",
       "      <th></th>\n",
       "      <th>Estándar</th>\n",
       "      <th>3.5</th>\n",
       "    </tr>\n",
       "  </thead>\n",
       "  <tbody>\n",
       "    <tr>\n",
       "      <th>0</th>\n",
       "      <td>Desarma BHA Tipo 6</td>\n",
       "      <td>2.55</td>\n",
       "    </tr>\n",
       "  </tbody>\n",
       "</table>\n",
       "</div>"
      ],
      "text/plain": [
       "             Estándar   3.5\n",
       "0  Desarma BHA Tipo 6  2.55"
      ]
     },
     "execution_count": 14,
     "metadata": {},
     "output_type": "execute_result"
    }
   ],
   "source": [
    "df['Desarma BHA']"
   ]
  }
 ],
 "metadata": {
  "kernelspec": {
   "display_name": "Python 3",
   "language": "python",
   "name": "python3"
  },
  "language_info": {
   "codemirror_mode": {
    "name": "ipython",
    "version": 3
   },
   "file_extension": ".py",
   "mimetype": "text/x-python",
   "name": "python",
   "nbconvert_exporter": "python",
   "pygments_lexer": "ipython3",
   "version": "3.11.9"
  }
 },
 "nbformat": 4,
 "nbformat_minor": 2
}
